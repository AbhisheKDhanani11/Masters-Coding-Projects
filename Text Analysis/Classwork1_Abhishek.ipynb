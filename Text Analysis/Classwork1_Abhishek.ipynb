{
 "cells": [
  {
   "cell_type": "code",
   "execution_count": 1,
   "id": "5981f67e",
   "metadata": {},
   "outputs": [],
   "source": [
    "import pandas as pd \n",
    "import regex as re\n",
    "import string"
   ]
  },
  {
   "cell_type": "code",
   "execution_count": 2,
   "id": "e7a3ee53",
   "metadata": {},
   "outputs": [
    {
     "data": {
      "text/html": [
       "<div>\n",
       "<style scoped>\n",
       "    .dataframe tbody tr th:only-of-type {\n",
       "        vertical-align: middle;\n",
       "    }\n",
       "\n",
       "    .dataframe tbody tr th {\n",
       "        vertical-align: top;\n",
       "    }\n",
       "\n",
       "    .dataframe thead th {\n",
       "        text-align: right;\n",
       "    }\n",
       "</style>\n",
       "<table border=\"1\" class=\"dataframe\">\n",
       "  <thead>\n",
       "    <tr style=\"text-align: right;\">\n",
       "      <th></th>\n",
       "      <th>Sentence</th>\n",
       "    </tr>\n",
       "  </thead>\n",
       "  <tbody>\n",
       "    <tr>\n",
       "      <th>0</th>\n",
       "      <td>The sun sets slowly behind the mountain.</td>\n",
       "    </tr>\n",
       "    <tr>\n",
       "      <th>1</th>\n",
       "      <td>Books are gateways to new worlds.</td>\n",
       "    </tr>\n",
       "    <tr>\n",
       "      <th>2</th>\n",
       "      <td>She laughed at the silly joke.</td>\n",
       "    </tr>\n",
       "    <tr>\n",
       "      <th>3</th>\n",
       "      <td>Rain tapped gently on the windowpane.</td>\n",
       "    </tr>\n",
       "    <tr>\n",
       "      <th>4</th>\n",
       "      <td>Adventure awaits those who seek it.</td>\n",
       "    </tr>\n",
       "  </tbody>\n",
       "</table>\n",
       "</div>"
      ],
      "text/plain": [
       "                                   Sentence\n",
       "0  The sun sets slowly behind the mountain.\n",
       "1         Books are gateways to new worlds.\n",
       "2            She laughed at the silly joke.\n",
       "3     Rain tapped gently on the windowpane.\n",
       "4       Adventure awaits those who seek it."
      ]
     },
     "execution_count": 2,
     "metadata": {},
     "output_type": "execute_result"
    }
   ],
   "source": [
    "df = pd.read_csv(\"sample_text.csv\") # csv file containg 5 sentences \n",
    "df"
   ]
  },
  {
   "cell_type": "code",
   "execution_count": 3,
   "id": "f041d32e",
   "metadata": {},
   "outputs": [
    {
     "name": "stdout",
     "output_type": "stream",
     "text": [
      "['T', 'h', 'e', 's', 'u', 'n', 's', 'e', 't', 's', 's', 'l', 'o', 'w', 'l', 'y', 'b', 'e', 'h', 'i', 'n', 'd', 't', 'h', 'e', 'm', 'o', 'u', 'n', 't', 'a', 'i', 'n', 'B', 'o', 'o', 'k', 's', 'a', 'r', 'e', 'g', 'a', 't', 'e', 'w', 'a', 'y', 's', 't', 'o', 'n', 'e', 'w', 'w', 'o', 'r', 'l', 'd', 's', 'S', 'h', 'e', 'l', 'a', 'u', 'g', 'h', 'e', 'd', 'a', 't', 't', 'h', 'e', 's', 'i', 'l', 'l', 'y', 'j', 'o', 'k', 'e', 'R', 'a', 'i', 'n', 't', 'a', 'p', 'p', 'e', 'd', 'g', 'e', 'n', 't', 'l', 'y', 'o', 'n', 't', 'h', 'e', 'w', 'i', 'n', 'd', 'o', 'w', 'p', 'a', 'n', 'e', 'A', 'd', 'v', 'e', 'n', 't', 'u', 'r', 'e', 'a', 'w', 'a', 'i', 't', 's', 't', 'h', 'o', 's', 'e', 'w', 'h', 'o', 's', 'e', 'e', 'k', 'i', 't']\n",
      "Total number of charactors in file is:  144\n"
     ]
    }
   ],
   "source": [
    "chars = [] # list to store each charactors \n",
    "for i in range(0, len(df)):\n",
    "    # getting each chartactor from a single row of df. and also removing the \".\"\n",
    "    sentence_chars = [char for char in re.findall(r'\\w', df['Sentence'][i]) if char != '.']  \n",
    "    chars.extend(sentence_chars) # storing each char in list\n",
    "print(chars)\n",
    "print(\"Total number of charactors in file is: \",len(chars))"
   ]
  },
  {
   "cell_type": "code",
   "execution_count": 4,
   "id": "d1e3d232",
   "metadata": {},
   "outputs": [
    {
     "name": "stdout",
     "output_type": "stream",
     "text": [
      "['The', 'sun', 'sets', 'slowly', 'behind', 'the', 'mountain', 'Books', 'are', 'gateways', 'to', 'new', 'worlds', 'She', 'laughed', 'at', 'the', 'silly', 'joke', 'Rain', 'tapped', 'gently', 'on', 'the', 'windowpane', 'Adventure', 'awaits', 'those', 'who', 'seek', 'it']\n",
      "Total number of words in file is 31\n"
     ]
    }
   ],
   "source": [
    "words = [] # list for string each words\n",
    "for i in range(0, len(df)):\n",
    "    # getting senatece from a single row, removing punctuation \n",
    "    sen = df['Sentence'][i].translate(str.maketrans('', '', string.punctuation)) \n",
    "    sen.lower() # converting to lower case\n",
    "    words.extend(sen.split()) # spliting the sentence by space\n",
    "print(words)\n",
    "print(f'Total number of words in file is {len(words)}')"
   ]
  },
  {
   "cell_type": "code",
   "execution_count": null,
   "id": "9064905a",
   "metadata": {},
   "outputs": [],
   "source": []
  }
 ],
 "metadata": {
  "kernelspec": {
   "display_name": "Python 3 (ipykernel)",
   "language": "python",
   "name": "python3"
  },
  "language_info": {
   "codemirror_mode": {
    "name": "ipython",
    "version": 3
   },
   "file_extension": ".py",
   "mimetype": "text/x-python",
   "name": "python",
   "nbconvert_exporter": "python",
   "pygments_lexer": "ipython3",
   "version": "3.10.8"
  }
 },
 "nbformat": 4,
 "nbformat_minor": 5
}
